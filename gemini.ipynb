{
 "cells": [
  {
   "cell_type": "code",
   "execution_count": 2,
   "id": "3fa7a8ba",
   "metadata": {},
   "outputs": [
    {
     "name": "stdout",
     "output_type": "stream",
     "text": [
      "Requirement already satisfied: google-generativeai in c:\\users\\abhij\\appdata\\local\\programs\\python\\python313\\lib\\site-packages (0.8.5)\n",
      "Requirement already satisfied: google-ai-generativelanguage==0.6.15 in c:\\users\\abhij\\appdata\\local\\programs\\python\\python313\\lib\\site-packages (from google-generativeai) (0.6.15)\n",
      "Requirement already satisfied: google-api-core in c:\\users\\abhij\\appdata\\local\\programs\\python\\python313\\lib\\site-packages (from google-generativeai) (2.25.1)\n",
      "Requirement already satisfied: google-api-python-client in c:\\users\\abhij\\appdata\\local\\programs\\python\\python313\\lib\\site-packages (from google-generativeai) (2.181.0)\n",
      "Requirement already satisfied: google-auth>=2.15.0 in c:\\users\\abhij\\appdata\\local\\programs\\python\\python313\\lib\\site-packages (from google-generativeai) (2.40.3)\n",
      "Requirement already satisfied: protobuf in c:\\users\\abhij\\appdata\\local\\programs\\python\\python313\\lib\\site-packages (from google-generativeai) (5.29.5)\n",
      "Requirement already satisfied: pydantic in c:\\users\\abhij\\appdata\\local\\programs\\python\\python313\\lib\\site-packages (from google-generativeai) (2.11.9)\n",
      "Requirement already satisfied: tqdm in c:\\users\\abhij\\appdata\\local\\programs\\python\\python313\\lib\\site-packages (from google-generativeai) (4.67.1)\n",
      "Requirement already satisfied: typing-extensions in c:\\users\\abhij\\appdata\\local\\programs\\python\\python313\\lib\\site-packages (from google-generativeai) (4.15.0)\n",
      "Requirement already satisfied: proto-plus<2.0.0dev,>=1.22.3 in c:\\users\\abhij\\appdata\\local\\programs\\python\\python313\\lib\\site-packages (from google-ai-generativelanguage==0.6.15->google-generativeai) (1.26.1)\n",
      "Requirement already satisfied: googleapis-common-protos<2.0.0,>=1.56.2 in c:\\users\\abhij\\appdata\\local\\programs\\python\\python313\\lib\\site-packages (from google-api-core->google-generativeai) (1.70.0)\n",
      "Requirement already satisfied: requests<3.0.0,>=2.18.0 in c:\\users\\abhij\\appdata\\local\\programs\\python\\python313\\lib\\site-packages (from google-api-core->google-generativeai) (2.32.5)\n",
      "Requirement already satisfied: grpcio<2.0.0,>=1.33.2 in c:\\users\\abhij\\appdata\\local\\programs\\python\\python313\\lib\\site-packages (from google-api-core[grpc]!=2.0.*,!=2.1.*,!=2.10.*,!=2.2.*,!=2.3.*,!=2.4.*,!=2.5.*,!=2.6.*,!=2.7.*,!=2.8.*,!=2.9.*,<3.0.0dev,>=1.34.1->google-ai-generativelanguage==0.6.15->google-generativeai) (1.74.0)\n",
      "Requirement already satisfied: grpcio-status<2.0.0,>=1.33.2 in c:\\users\\abhij\\appdata\\local\\programs\\python\\python313\\lib\\site-packages (from google-api-core[grpc]!=2.0.*,!=2.1.*,!=2.10.*,!=2.2.*,!=2.3.*,!=2.4.*,!=2.5.*,!=2.6.*,!=2.7.*,!=2.8.*,!=2.9.*,<3.0.0dev,>=1.34.1->google-ai-generativelanguage==0.6.15->google-generativeai) (1.71.2)\n",
      "Requirement already satisfied: cachetools<6.0,>=2.0.0 in c:\\users\\abhij\\appdata\\local\\programs\\python\\python313\\lib\\site-packages (from google-auth>=2.15.0->google-generativeai) (5.5.2)\n",
      "Requirement already satisfied: pyasn1-modules>=0.2.1 in c:\\users\\abhij\\appdata\\local\\programs\\python\\python313\\lib\\site-packages (from google-auth>=2.15.0->google-generativeai) (0.4.2)\n",
      "Requirement already satisfied: rsa<5,>=3.1.4 in c:\\users\\abhij\\appdata\\local\\programs\\python\\python313\\lib\\site-packages (from google-auth>=2.15.0->google-generativeai) (4.9.1)\n",
      "Requirement already satisfied: charset_normalizer<4,>=2 in c:\\users\\abhij\\appdata\\local\\programs\\python\\python313\\lib\\site-packages (from requests<3.0.0,>=2.18.0->google-api-core->google-generativeai) (3.4.3)\n",
      "Requirement already satisfied: idna<4,>=2.5 in c:\\users\\abhij\\appdata\\local\\programs\\python\\python313\\lib\\site-packages (from requests<3.0.0,>=2.18.0->google-api-core->google-generativeai) (3.10)\n",
      "Requirement already satisfied: urllib3<3,>=1.21.1 in c:\\users\\abhij\\appdata\\local\\programs\\python\\python313\\lib\\site-packages (from requests<3.0.0,>=2.18.0->google-api-core->google-generativeai) (2.5.0)\n",
      "Requirement already satisfied: certifi>=2017.4.17 in c:\\users\\abhij\\appdata\\local\\programs\\python\\python313\\lib\\site-packages (from requests<3.0.0,>=2.18.0->google-api-core->google-generativeai) (2025.8.3)\n",
      "Requirement already satisfied: pyasn1>=0.1.3 in c:\\users\\abhij\\appdata\\local\\programs\\python\\python313\\lib\\site-packages (from rsa<5,>=3.1.4->google-auth>=2.15.0->google-generativeai) (0.6.1)\n",
      "Requirement already satisfied: httplib2<1.0.0,>=0.19.0 in c:\\users\\abhij\\appdata\\local\\programs\\python\\python313\\lib\\site-packages (from google-api-python-client->google-generativeai) (0.31.0)\n",
      "Requirement already satisfied: google-auth-httplib2<1.0.0,>=0.2.0 in c:\\users\\abhij\\appdata\\local\\programs\\python\\python313\\lib\\site-packages (from google-api-python-client->google-generativeai) (0.2.0)\n",
      "Requirement already satisfied: uritemplate<5,>=3.0.1 in c:\\users\\abhij\\appdata\\local\\programs\\python\\python313\\lib\\site-packages (from google-api-python-client->google-generativeai) (4.2.0)\n",
      "Requirement already satisfied: pyparsing<4,>=3.0.4 in c:\\users\\abhij\\appdata\\local\\programs\\python\\python313\\lib\\site-packages (from httplib2<1.0.0,>=0.19.0->google-api-python-client->google-generativeai) (3.2.4)\n",
      "Requirement already satisfied: annotated-types>=0.6.0 in c:\\users\\abhij\\appdata\\local\\programs\\python\\python313\\lib\\site-packages (from pydantic->google-generativeai) (0.7.0)\n",
      "Requirement already satisfied: pydantic-core==2.33.2 in c:\\users\\abhij\\appdata\\local\\programs\\python\\python313\\lib\\site-packages (from pydantic->google-generativeai) (2.33.2)\n",
      "Requirement already satisfied: typing-inspection>=0.4.0 in c:\\users\\abhij\\appdata\\local\\programs\\python\\python313\\lib\\site-packages (from pydantic->google-generativeai) (0.4.1)\n",
      "Requirement already satisfied: colorama in c:\\users\\abhij\\appdata\\roaming\\python\\python313\\site-packages (from tqdm->google-generativeai) (0.4.6)\n",
      "Note: you may need to restart the kernel to use updated packages.\n"
     ]
    }
   ],
   "source": [
    "pip install google-generativeai"
   ]
  },
  {
   "cell_type": "code",
   "execution_count": 3,
   "id": "d13b5952",
   "metadata": {},
   "outputs": [
    {
     "name": "stderr",
     "output_type": "stream",
     "text": [
      "c:\\Users\\abhij\\AppData\\Local\\Programs\\Python\\Python313\\Lib\\site-packages\\tqdm\\auto.py:21: TqdmWarning: IProgress not found. Please update jupyter and ipywidgets. See https://ipywidgets.readthedocs.io/en/stable/user_install.html\n",
      "  from .autonotebook import tqdm as notebook_tqdm\n"
     ]
    }
   ],
   "source": [
    "import google.generativeai as genai"
   ]
  },
  {
   "cell_type": "code",
   "execution_count": 9,
   "id": "a2ec69b9",
   "metadata": {},
   "outputs": [],
   "source": [
    "import os"
   ]
  },
  {
   "cell_type": "code",
   "execution_count": 10,
   "id": "cbef23de",
   "metadata": {},
   "outputs": [],
   "source": [
    "api=os.getenv(\"GOOGLE_API_KEY\")"
   ]
  },
  {
   "cell_type": "code",
   "execution_count": 11,
   "id": "89006e21",
   "metadata": {},
   "outputs": [],
   "source": [
    "genai.configure(api_key=api)"
   ]
  },
  {
   "cell_type": "code",
   "execution_count": 12,
   "id": "6326dba9",
   "metadata": {},
   "outputs": [],
   "source": [
    "\n",
    "genai.configure(api_key=os.environ[\"GOOGLE_API_KEY\"])"
   ]
  },
  {
   "cell_type": "code",
   "execution_count": 13,
   "id": "2f3b72ef",
   "metadata": {},
   "outputs": [
    {
     "name": "stdout",
     "output_type": "stream",
     "text": [
      "models/gemini-1.5-pro-latest\n",
      "models/gemini-1.5-pro-002\n",
      "models/gemini-1.5-pro\n",
      "models/gemini-1.5-flash-latest\n",
      "models/gemini-1.5-flash\n",
      "models/gemini-1.5-flash-002\n",
      "models/gemini-1.5-flash-8b\n",
      "models/gemini-1.5-flash-8b-001\n",
      "models/gemini-1.5-flash-8b-latest\n",
      "models/gemini-2.5-pro-preview-03-25\n",
      "models/gemini-2.5-flash-preview-05-20\n",
      "models/gemini-2.5-flash\n",
      "models/gemini-2.5-flash-lite-preview-06-17\n",
      "models/gemini-2.5-pro-preview-05-06\n",
      "models/gemini-2.5-pro-preview-06-05\n",
      "models/gemini-2.5-pro\n",
      "models/gemini-2.0-flash-exp\n",
      "models/gemini-2.0-flash\n",
      "models/gemini-2.0-flash-001\n",
      "models/gemini-2.0-flash-exp-image-generation\n",
      "models/gemini-2.0-flash-lite-001\n",
      "models/gemini-2.0-flash-lite\n",
      "models/gemini-2.0-flash-preview-image-generation\n",
      "models/gemini-2.0-flash-lite-preview-02-05\n",
      "models/gemini-2.0-flash-lite-preview\n",
      "models/gemini-2.0-pro-exp\n",
      "models/gemini-2.0-pro-exp-02-05\n",
      "models/gemini-exp-1206\n",
      "models/gemini-2.0-flash-thinking-exp-01-21\n",
      "models/gemini-2.0-flash-thinking-exp\n",
      "models/gemini-2.0-flash-thinking-exp-1219\n",
      "models/gemini-2.5-flash-preview-tts\n",
      "models/gemini-2.5-pro-preview-tts\n",
      "models/learnlm-2.0-flash-experimental\n",
      "models/gemma-3-1b-it\n",
      "models/gemma-3-4b-it\n",
      "models/gemma-3-12b-it\n",
      "models/gemma-3-27b-it\n",
      "models/gemma-3n-e4b-it\n",
      "models/gemma-3n-e2b-it\n",
      "models/gemini-2.5-flash-lite\n",
      "models/gemini-2.5-flash-image-preview\n"
     ]
    }
   ],
   "source": [
    "for m in genai.list_models():\n",
    "    if 'generateContent' in m.supported_generation_methods:\n",
    "        print(m.name)"
   ]
  },
  {
   "cell_type": "code",
   "execution_count": null,
   "id": "0ec3bfbc",
   "metadata": {},
   "outputs": [],
   "source": [
    "\n"
   ]
  },
  {
   "cell_type": "code",
   "execution_count": 14,
   "id": "8bb7055d",
   "metadata": {},
   "outputs": [],
   "source": [
    "model=genai.GenerativeModel('gemini-2.5-flash-lite')"
   ]
  },
  {
   "cell_type": "code",
   "execution_count": 15,
   "id": "c9244e8e",
   "metadata": {},
   "outputs": [],
   "source": [
    "import google.generativeai as genai\n",
    "import os"
   ]
  },
  {
   "cell_type": "code",
   "execution_count": null,
   "id": "cd312fed",
   "metadata": {},
   "outputs": [],
   "source": []
  },
  {
   "cell_type": "code",
   "execution_count": null,
   "id": "b3c28062",
   "metadata": {},
   "outputs": [],
   "source": []
  },
  {
   "cell_type": "code",
   "execution_count": 16,
   "id": "3896976b",
   "metadata": {},
   "outputs": [],
   "source": [
    "prompt='''Assume you are a sports expert.Prepare a summary on MS Dhoni's career include all teh key achivements and statistics\n",
    "generate output in bullet points.  '''"
   ]
  },
  {
   "cell_type": "code",
   "execution_count": 17,
   "id": "bf92dfb6",
   "metadata": {},
   "outputs": [],
   "source": [
    "response = model.generate_content(prompt)"
   ]
  },
  {
   "cell_type": "code",
   "execution_count": 18,
   "id": "300659b1",
   "metadata": {},
   "outputs": [
    {
     "name": "stdout",
     "output_type": "stream",
     "text": [
      "As a sports expert, here's a summary of MS Dhoni's illustrious career, highlighting his key achievements and statistics in bullet points:\n",
      "\n",
      "**MS Dhoni: A Legendary Figure in Cricket**\n",
      "\n",
      "**Batting Prowess & Wicketkeeping Excellence:**\n",
      "\n",
      "*   **Explosive Lower-Order Striker:** Known for his incredible finishing abilities, often taking matches to the wire and sealing victories for India.\n",
      "*   **Calm Under Pressure:** His legendary composure and \"ice in his veins\" demeanor made him one of the most successful match-winners in cricket history.\n",
      "*   **Exceptional Wicketkeeper:** A highly agile and reliable wicketkeeper, responsible for numerous stumpings and catches, often turning games with his glovework.\n",
      "*   **Unique Batting Stance & Technique:** His unorthodox but effective batting technique, particularly his helicopter shot, became iconic.\n",
      "\n",
      "**Captaincy Supremacy:**\n",
      "\n",
      "*   **Most Successful Indian Captain:** Led India to an unprecedented era of success across all formats.\n",
      "*   **ICC Champions Trophy 2013 Victory:** Completed the set of major ICC trophies, becoming the only captain to win all three (T20 World Cup, ODI World Cup, Champions Trophy).\n",
      "*   **ICC T20 World Cup 2007 Victory:** Led a young, underdog Indian side to a historic triumph in the inaugural T20 World Cup.\n",
      "*   **ICC Cricket World Cup 2011 Victory:** Fulfilled a nation's dream by captaining India to their second ODI World Cup title after a 28-year gap, culminating in his iconic six.\n",
      "*   **Asia Cup Victories (2010, 2016):** Led India to two Asia Cup titles in ODI and T20 formats, respectively.\n",
      "*   **Test Cricket Dominance:** Under his leadership, India became the No. 1 ranked Test team in the world for a significant period (December 2009 - August 2011).\n",
      "*   **Retirement from Captaincy:** Stepped down from all forms of captaincy, leaving a legacy of unparalleled success.\n",
      "\n",
      "**Milestone Statistics & Records:**\n",
      "\n",
      "*   **International Matches Played:** Over 500 international matches across all formats (Tests, ODIs, T20Is), a testament to his longevity and importance.\n",
      "*   **Wicketkeeping Dismissals:** Holds the record for most stumpings by a wicketkeeper in ODIs (123) and is second in total dismissals in ODIs.\n",
      "*   **Most Sixes by an Indian Wicketkeeper:** A prolific six-hitter throughout his career.\n",
      "*   **Fastest ODI Century by an Indian Wicketkeeper:** Scored a blistering century against Pakistan in 2005.\n",
      "*   **Most ODI Wins as Captain:** Holds the record for the most ODI wins as captain for India.\n",
      "*   **Most T20I Wins as Captain:** Also holds the record for the most T20I wins as captain for India.\n",
      "*   **Finishing Records:** Known for his remarkable record in chasing targets, often remaining not out and guiding India to victory.\n",
      "*   **IPL Dominance:** Captained Chennai Super Kings (CSK) to multiple Indian Premier League (IPL) titles, establishing them as one of the most successful franchises in the league's history.\n",
      "    *   **IPL Titles with CSK:** 5 (2010, 2011, 2018, 2021, 2023)\n",
      "    *   **Champions League T20 Titles with CSK:** 2 (2010, 2014)\n",
      "*   **One of the Few Players to Play 100+ T20 Matches:** A pioneer in the T20 format.\n",
      "\n",
      "**Awards and Recognition:**\n",
      "\n",
      "*   **ICC ODI Player of the Year:** Won the award twice (2008, 2009).\n",
      "*   **Rajiv Gandhi Khel Ratna Award:** India's highest sporting honor.\n",
      "*   **Padma Shri and Padma Bhushan:** India's fourth and third-highest civilian awards, respectively.\n",
      "*   **Honorary Doctorate:** Awarded by various universities for his contributions to cricket.\n",
      "\n",
      "**Legacy:**\n",
      "\n",
      "*   **\"The Finisher\":** His ability to finish games under immense pressure earned him this iconic title.\n",
      "*   **Inspiration to Millions:** A role model for aspiring cricketers and a national hero.\n",
      "*   **Revolutionized Captaincy:** Brought a new dimension of strategic thinking and man-management to Indian captaincy.\n",
      "*   **Enduring Popularity:** Remains one of the most adored and respected cricketers in India and globally.\n",
      "*   **Transformed the Role of a Wicketkeeper-Batsman:** Redefined expectations for players fulfilling both roles.\n",
      "\n",
      "MS Dhoni's career is a masterclass in leadership, skill, and mental fortitude. He didn't just win matches; he inspired a nation and left an indelible mark on the game of cricket.\n"
     ]
    }
   ],
   "source": [
    "print(response.text)"
   ]
  },
  {
   "cell_type": "code",
   "execution_count": null,
   "id": "61e5c22c",
   "metadata": {},
   "outputs": [],
   "source": []
  }
 ],
 "metadata": {
  "kernelspec": {
   "display_name": "Python 3",
   "language": "python",
   "name": "python3"
  },
  "language_info": {
   "codemirror_mode": {
    "name": "ipython",
    "version": 3
   },
   "file_extension": ".py",
   "mimetype": "text/x-python",
   "name": "python",
   "nbconvert_exporter": "python",
   "pygments_lexer": "ipython3",
   "version": "3.13.2"
  }
 },
 "nbformat": 4,
 "nbformat_minor": 5
}
